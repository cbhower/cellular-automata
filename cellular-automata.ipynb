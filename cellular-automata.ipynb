{
 "cells": [
  {
   "cell_type": "markdown",
   "metadata": {},
   "source": [
    "# SYSC 535 Modeling And Simulation\n",
    "## LAB 03: AGENT BASED MODELS\n",
    "**Christan Hower** \n",
    "\n",
    "*Spring '19*\n",
    "### PART 1: CELLULAR AUTOMATA"
   ]
  },
  {
   "cell_type": "code",
   "execution_count": 53,
   "metadata": {
    "collapsed": true
   },
   "outputs": [],
   "source": [
    "import random\n",
    "\n",
    "off = '`'\n",
    "on = '*'\n",
    "iterations = 30\n",
    "n_cells = 21\n",
    "buffer = '0'\n",
    "state = ''.join(random.choice('01') for i in range(n_cells))"
   ]
  },
  {
   "cell_type": "markdown",
   "metadata": {},
   "source": [
    "#### Rule Configuration 1"
   ]
  },
  {
   "cell_type": "code",
   "execution_count": 18,
   "metadata": {},
   "outputs": [
    {
     "name": "stdout",
     "output_type": "stream",
     "text": [
      "Iteration 0:  `*``````*``*``*`*````\n",
      "Iteration 1:  **`******`**`**`*`***\n",
      "Iteration 2:  *``*****``*``*``*`**`\n",
      "Iteration 3:  *`*****``**`**`**`*``\n",
      "Iteration 4:  *`****``**``*``*``*`*\n",
      "Iteration 5:  *`***``**``**`**`**`*\n",
      "Iteration 6:  *`**``**``**``*``*``*\n",
      "Iteration 7:  *`*``**``**``**`**`**\n",
      "Iteration 8:  *`*`**``**``**``*``*`\n",
      "Iteration 9:  *`*`*``**``**``**`**`\n",
      "Iteration 10:  *`*`*`**``**``**``*``\n",
      "Iteration 11:  *`*`*`*``**``**``**`*\n",
      "Iteration 12:  *`*`*`*`**``**``**``*\n",
      "Iteration 13:  *`*`*`*`*``**``**``**\n",
      "Iteration 14:  *`*`*`*`*`**``**``**`\n",
      "Iteration 15:  *`*`*`*`*`*``**``**``\n",
      "Iteration 16:  *`*`*`*`*`*`**``**``*\n",
      "Iteration 17:  *`*`*`*`*`*`*``**``**\n",
      "Iteration 18:  *`*`*`*`*`*`*`**``**`\n",
      "Iteration 19:  *`*`*`*`*`*`*`*``**``\n",
      "Iteration 20:  *`*`*`*`*`*`*`*`**``*\n",
      "Iteration 21:  *`*`*`*`*`*`*`*`*``**\n",
      "Iteration 22:  *`*`*`*`*`*`*`*`*`**`\n",
      "Iteration 23:  *`*`*`*`*`*`*`*`*`*``\n",
      "Iteration 24:  *`*`*`*`*`*`*`*`*`*`*\n",
      "Iteration 25:  *`*`*`*`*`*`*`*`*`*`*\n",
      "Iteration 26:  *`*`*`*`*`*`*`*`*`*`*\n",
      "Iteration 27:  *`*`*`*`*`*`*`*`*`*`*\n",
      "Iteration 28:  *`*`*`*`*`*`*`*`*`*`*\n",
      "Iteration 29:  *`*`*`*`*`*`*`*`*`*`*\n"
     ]
    }
   ],
   "source": [
    "init = '00000000001000000000'\n",
    "\n",
    "rules = {\n",
    " '000': '1',\n",
    " '001': '1',\n",
    " '010': '1',\n",
    " '011': '1',\n",
    " '100': '0',\n",
    " '101': '0',\n",
    " '110': '0',\n",
    " '111': '1',\n",
    " }\n",
    "\n",
    "for i in range(iterations):\n",
    "    print(\"Iteration %i:  %s\" % ( i,\n",
    "          state.replace('0', off).replace('1', on)))\n",
    "    state = buffer + state + buffer\n",
    "    state = ''.join(rules[state[i:i+3]] for i in range(n_cells))"
   ]
  },
  {
   "cell_type": "markdown",
   "metadata": {},
   "source": [
    "This rule set and initial configuration went to a fixed attractor state at iteration 23. The pattern simply alternates and will never do anything different."
   ]
  },
  {
   "cell_type": "markdown",
   "metadata": {},
   "source": [
    "#### Rule Configuration 2"
   ]
  },
  {
   "cell_type": "code",
   "execution_count": 19,
   "metadata": {},
   "outputs": [
    {
     "name": "stdout",
     "output_type": "stream",
     "text": [
      "Iteration 0:  *`*`*`*`*`*`*`*`*`*`*\n",
      "Iteration 1:  `*`*`*`*`*`*`*`*`*`*`\n",
      "Iteration 2:  *`*`*`*`*`*`*`*`*`*``\n",
      "Iteration 3:  `*`*`*`*`*`*`*`*`*``*\n",
      "Iteration 4:  *`*`*`*`*`*`*`*`*``*`\n",
      "Iteration 5:  `*`*`*`*`*`*`*`*``*``\n",
      "Iteration 6:  *`*`*`*`*`*`*`*``*``*\n",
      "Iteration 7:  `*`*`*`*`*`*`*``*``*`\n",
      "Iteration 8:  *`*`*`*`*`*`*``*``*``\n",
      "Iteration 9:  `*`*`*`*`*`*``*``*``*\n",
      "Iteration 10:  *`*`*`*`*`*``*``*``*`\n",
      "Iteration 11:  `*`*`*`*`*``*``*``*``\n",
      "Iteration 12:  *`*`*`*`*``*``*``*``*\n",
      "Iteration 13:  `*`*`*`*``*``*``*``*`\n",
      "Iteration 14:  *`*`*`*``*``*``*``*``\n",
      "Iteration 15:  `*`*`*``*``*``*``*``*\n",
      "Iteration 16:  *`*`*``*``*``*``*``*`\n",
      "Iteration 17:  `*`*``*``*``*``*``*``\n",
      "Iteration 18:  *`*``*``*``*``*``*``*\n",
      "Iteration 19:  `*``*``*``*``*``*``*`\n",
      "Iteration 20:  *``*``*``*``*``*``*``\n",
      "Iteration 21:  ``*``*``*``*``*``*``*\n",
      "Iteration 22:  **``*``*``*``*``*``*`\n",
      "Iteration 23:  *``*``*``*``*``*``*``\n",
      "Iteration 24:  ``*``*``*``*``*``*``*\n",
      "Iteration 25:  **``*``*``*``*``*``*`\n",
      "Iteration 26:  *``*``*``*``*``*``*``\n",
      "Iteration 27:  ``*``*``*``*``*``*``*\n",
      "Iteration 28:  **``*``*``*``*``*``*`\n",
      "Iteration 29:  *``*``*``*``*``*``*``\n"
     ]
    }
   ],
   "source": [
    "init = '00000000001000000000'\n",
    "\n",
    "rules = {\n",
    " '000': '1',\n",
    " '001': '1',\n",
    " '010': '0',\n",
    " '011': '1',\n",
    " '100': '0',\n",
    " '101': '1',\n",
    " '110': '0',\n",
    " '111': '1',\n",
    " }\n",
    "\n",
    "for i in range(iterations):\n",
    "    print(\"Iteration %i:  %s\" % ( i,\n",
    "          state.replace('0', off).replace('1', on)))\n",
    "    state = buffer + state + buffer\n",
    "    state = ''.join(rules[state[i:i+3]] for i in range(n_cells))"
   ]
  },
  {
   "cell_type": "markdown",
   "metadata": {},
   "source": [
    "This rule set seems to fall into a regular pattern but one that has a longer transition repetition length than the previous rules."
   ]
  },
  {
   "cell_type": "markdown",
   "metadata": {},
   "source": [
    "#### Rule Configuration 3"
   ]
  },
  {
   "cell_type": "code",
   "execution_count": 20,
   "metadata": {},
   "outputs": [
    {
     "name": "stdout",
     "output_type": "stream",
     "text": [
      "Iteration 0:  ``*``*``*``*``*``*``*\n",
      "Iteration 1:  `**`**`**`**`**`**`**\n",
      "Iteration 2:  *********************\n",
      "Iteration 3:  *```````````````````*\n",
      "Iteration 4:  *``````````````````**\n",
      "Iteration 5:  *`````````````````***\n",
      "Iteration 6:  *````````````````**`*\n",
      "Iteration 7:  *```````````````*****\n",
      "Iteration 8:  *``````````````**```*\n",
      "Iteration 9:  *`````````````***``**\n",
      "Iteration 10:  *````````````**`*`***\n",
      "Iteration 11:  *```````````*******`*\n",
      "Iteration 12:  *``````````**`````***\n",
      "Iteration 13:  *`````````***````**`*\n",
      "Iteration 14:  *````````**`*```*****\n",
      "Iteration 15:  *```````*****``**```*\n",
      "Iteration 16:  *``````**```*`***``**\n",
      "Iteration 17:  *`````***``****`*`***\n",
      "Iteration 18:  *````**`*`**``*****`*\n",
      "Iteration 19:  *```********`**```***\n",
      "Iteration 20:  *``**``````****``**`*\n",
      "Iteration 21:  *`***`````**``*`*****\n",
      "Iteration 22:  ***`*````***`****```*\n",
      "Iteration 23:  *`***```**`***``*``**\n",
      "Iteration 24:  ***`*``*****`*`**`***\n",
      "Iteration 25:  *`***`**```********`*\n",
      "Iteration 26:  ***`****``**``````***\n",
      "Iteration 27:  *`***``*`***`````**`*\n",
      "Iteration 28:  ***`*`****`*````*****\n",
      "Iteration 29:  *`*****``***```**```*\n"
     ]
    }
   ],
   "source": [
    "init = '00000000001000000000'\n",
    "\n",
    "rules = {\n",
    " '000': '0',\n",
    " '001': '1',\n",
    " '010': '1',\n",
    " '011': '1',\n",
    " '100': '0',\n",
    " '101': '1',\n",
    " '110': '1',\n",
    " '111': '0',\n",
    " }\n",
    "\n",
    "for i in range(iterations):\n",
    "    print(\"Iteration %i:  %s\" % ( i,\n",
    "          state.replace('0', off).replace('1', on)))\n",
    "    state = buffer + state + buffer\n",
    "    state = ''.join(rules[state[i:i+3]] for i in range(n_cells))"
   ]
  },
  {
   "cell_type": "markdown",
   "metadata": {},
   "source": [
    "This rule set produces some interesting patterns that are reminiscent of Wolfram's rule 30. There are number of triangles appearing at different scales and the overall appearance is irregular."
   ]
  },
  {
   "cell_type": "markdown",
   "metadata": {},
   "source": [
    "#### Concluding CA Thoughts\n",
    "It is not surprising that many rule sets for cellular automata result in nothing remarkable. However, it is very curious that occasionally a rule set will result in behavior that is far more complex and irregular than seems likely from the outset. I find it very convincing that this principle of simple, local rules could be the mechanism behind many different patterns observed in nature."
   ]
  }
 ],
 "metadata": {
  "kernelspec": {
   "display_name": "Python 3",
   "language": "python",
   "name": "python3"
  },
  "language_info": {
   "codemirror_mode": {
    "name": "ipython",
    "version": 3
   },
   "file_extension": ".py",
   "mimetype": "text/x-python",
   "name": "python",
   "nbconvert_exporter": "python",
   "pygments_lexer": "ipython3",
   "version": "3.7.0"
  }
 },
 "nbformat": 4,
 "nbformat_minor": 2
}
